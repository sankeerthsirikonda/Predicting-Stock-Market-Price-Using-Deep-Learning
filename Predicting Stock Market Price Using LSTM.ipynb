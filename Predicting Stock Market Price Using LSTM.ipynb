{
 "cells": [
  {
   "cell_type": "markdown",
   "metadata": {},
   "source": [
    "## importing dependencies \n",
    "\n"
   ]
  },
  {
   "cell_type": "code",
   "execution_count": 1,
   "metadata": {},
   "outputs": [],
   "source": [
    "import numpy as np \n",
    "import pandas as pd \n",
    "import matplotlib.pyplot as plt \n",
    "from sklearn.preprocessing import MinMaxScaler\n",
    "from keras.models import Sequential\n",
    "from keras.layers import Dense,LSTM,Dropout"
   ]
  },
  {
   "cell_type": "markdown",
   "metadata": {},
   "source": [
    "### importing the training data of GOOG historical prices"
   ]
  },
  {
   "cell_type": "code",
   "execution_count": 2,
   "metadata": {},
   "outputs": [],
   "source": [
    "data = pd.read_csv('trainData.csv') \n"
   ]
  },
  {
   "cell_type": "code",
   "execution_count": 3,
   "metadata": {},
   "outputs": [
    {
     "data": {
      "text/html": [
       "<div>\n",
       "<style scoped>\n",
       "    .dataframe tbody tr th:only-of-type {\n",
       "        vertical-align: middle;\n",
       "    }\n",
       "\n",
       "    .dataframe tbody tr th {\n",
       "        vertical-align: top;\n",
       "    }\n",
       "\n",
       "    .dataframe thead th {\n",
       "        text-align: right;\n",
       "    }\n",
       "</style>\n",
       "<table border=\"1\" class=\"dataframe\">\n",
       "  <thead>\n",
       "    <tr style=\"text-align: right;\">\n",
       "      <th></th>\n",
       "      <th>Date</th>\n",
       "      <th>Open</th>\n",
       "      <th>High</th>\n",
       "      <th>Low</th>\n",
       "      <th>Close</th>\n",
       "      <th>Volume</th>\n",
       "    </tr>\n",
       "  </thead>\n",
       "  <tbody>\n",
       "    <tr>\n",
       "      <th>0</th>\n",
       "      <td>1/3/2012</td>\n",
       "      <td>325.25</td>\n",
       "      <td>332.83</td>\n",
       "      <td>324.97</td>\n",
       "      <td>663.59</td>\n",
       "      <td>7,380,500</td>\n",
       "    </tr>\n",
       "    <tr>\n",
       "      <th>1</th>\n",
       "      <td>1/4/2012</td>\n",
       "      <td>331.27</td>\n",
       "      <td>333.87</td>\n",
       "      <td>329.08</td>\n",
       "      <td>666.45</td>\n",
       "      <td>5,749,400</td>\n",
       "    </tr>\n",
       "    <tr>\n",
       "      <th>2</th>\n",
       "      <td>1/5/2012</td>\n",
       "      <td>329.83</td>\n",
       "      <td>330.75</td>\n",
       "      <td>326.89</td>\n",
       "      <td>657.21</td>\n",
       "      <td>6,590,300</td>\n",
       "    </tr>\n",
       "    <tr>\n",
       "      <th>3</th>\n",
       "      <td>1/6/2012</td>\n",
       "      <td>328.34</td>\n",
       "      <td>328.77</td>\n",
       "      <td>323.68</td>\n",
       "      <td>648.24</td>\n",
       "      <td>5,405,900</td>\n",
       "    </tr>\n",
       "    <tr>\n",
       "      <th>4</th>\n",
       "      <td>1/9/2012</td>\n",
       "      <td>322.04</td>\n",
       "      <td>322.29</td>\n",
       "      <td>309.46</td>\n",
       "      <td>620.76</td>\n",
       "      <td>11,688,800</td>\n",
       "    </tr>\n",
       "    <tr>\n",
       "      <th>5</th>\n",
       "      <td>1/10/2012</td>\n",
       "      <td>313.70</td>\n",
       "      <td>315.72</td>\n",
       "      <td>307.30</td>\n",
       "      <td>621.43</td>\n",
       "      <td>8,824,000</td>\n",
       "    </tr>\n",
       "    <tr>\n",
       "      <th>6</th>\n",
       "      <td>1/11/2012</td>\n",
       "      <td>310.59</td>\n",
       "      <td>313.52</td>\n",
       "      <td>309.40</td>\n",
       "      <td>624.25</td>\n",
       "      <td>4,817,800</td>\n",
       "    </tr>\n",
       "    <tr>\n",
       "      <th>7</th>\n",
       "      <td>1/12/2012</td>\n",
       "      <td>314.43</td>\n",
       "      <td>315.26</td>\n",
       "      <td>312.08</td>\n",
       "      <td>627.92</td>\n",
       "      <td>3,764,400</td>\n",
       "    </tr>\n",
       "    <tr>\n",
       "      <th>8</th>\n",
       "      <td>1/13/2012</td>\n",
       "      <td>311.96</td>\n",
       "      <td>312.30</td>\n",
       "      <td>309.37</td>\n",
       "      <td>623.28</td>\n",
       "      <td>4,631,800</td>\n",
       "    </tr>\n",
       "    <tr>\n",
       "      <th>9</th>\n",
       "      <td>1/17/2012</td>\n",
       "      <td>314.81</td>\n",
       "      <td>314.81</td>\n",
       "      <td>311.67</td>\n",
       "      <td>626.86</td>\n",
       "      <td>3,832,800</td>\n",
       "    </tr>\n",
       "  </tbody>\n",
       "</table>\n",
       "</div>"
      ],
      "text/plain": [
       "        Date    Open    High     Low   Close      Volume\n",
       "0   1/3/2012  325.25  332.83  324.97  663.59   7,380,500\n",
       "1   1/4/2012  331.27  333.87  329.08  666.45   5,749,400\n",
       "2   1/5/2012  329.83  330.75  326.89  657.21   6,590,300\n",
       "3   1/6/2012  328.34  328.77  323.68  648.24   5,405,900\n",
       "4   1/9/2012  322.04  322.29  309.46  620.76  11,688,800\n",
       "5  1/10/2012  313.70  315.72  307.30  621.43   8,824,000\n",
       "6  1/11/2012  310.59  313.52  309.40  624.25   4,817,800\n",
       "7  1/12/2012  314.43  315.26  312.08  627.92   3,764,400\n",
       "8  1/13/2012  311.96  312.30  309.37  623.28   4,631,800\n",
       "9  1/17/2012  314.81  314.81  311.67  626.86   3,832,800"
      ]
     },
     "execution_count": 3,
     "metadata": {},
     "output_type": "execute_result"
    }
   ],
   "source": [
    "data.head(10)"
   ]
  },
  {
   "cell_type": "code",
   "execution_count": 4,
   "metadata": {},
   "outputs": [
    {
     "name": "stdout",
     "output_type": "stream",
     "text": [
      "<class 'pandas.core.frame.DataFrame'>\n",
      "RangeIndex: 1258 entries, 0 to 1257\n",
      "Data columns (total 6 columns):\n",
      " #   Column  Non-Null Count  Dtype  \n",
      "---  ------  --------------  -----  \n",
      " 0   Date    1258 non-null   object \n",
      " 1   Open    1258 non-null   float64\n",
      " 2   High    1258 non-null   float64\n",
      " 3   Low     1258 non-null   float64\n",
      " 4   Close   1258 non-null   object \n",
      " 5   Volume  1258 non-null   object \n",
      "dtypes: float64(3), object(3)\n",
      "memory usage: 59.1+ KB\n"
     ]
    }
   ],
   "source": [
    "data.info()"
   ]
  },
  {
   "cell_type": "code",
   "execution_count": 18,
   "metadata": {},
   "outputs": [
    {
     "data": {
      "image/png": "[encoded data removed]",
      "text/plain": [
       "<Figure size 432x288 with 1 Axes>"
      ]
     },
     "metadata": {
      "needs_background": "light"
     },
     "output_type": "display_data"
    }
   ],
   "source": [
    "plt.plot(data['Close'], color = 'blue', label = 'Stock Price')\n",
    "plt.title('GOOG stock price prediction')\n",
    "plt.xlabel('Time')\n",
    "plt.ylabel('Stock Price')\n",
    "plt.legend()\n",
    "plt.show()"
   ]
  },
  {
   "cell_type": "markdown",
   "metadata": {},
   "source": [
    "## choosing the close column \n"
   ]
  },
  {
   "cell_type": "code",
   "execution_count": 6,
   "metadata": {},
   "outputs": [],
   "source": [
    "data[\"Close\"]=pd.to_numeric(data.Close,errors='coerce') #turning the Close column to numeric\n",
    "data = data.dropna() #romeving the NA values\n",
    "trainData = data.iloc[:,4:5].values #selecting only the closing prices for training\n"
   ]
  },
  {
   "cell_type": "markdown",
   "metadata": {},
   "source": [
    "## scaling the values in the range of 0-1 for best preformances "
   ]
  },
  {
   "cell_type": "code",
   "execution_count": 7,
   "metadata": {},
   "outputs": [
    {
     "data": {
      "text/plain": [
       "(1149, 1)"
      ]
     },
     "execution_count": 7,
     "metadata": {},
     "output_type": "execute_result"
    }
   ],
   "source": [
    "sc = MinMaxScaler(feature_range=(0,1))\n",
    "trainData = sc.fit_transform(trainData)\n",
    "trainData.shape"
   ]
  },
  {
   "cell_type": "markdown",
   "metadata": {},
   "source": [
    "## preparing the data for LSTM\n",
    " since its a time series problem we took 60 as timestep for our learning : given *60 closing values* as an input data the *61st value* is our output"
   ]
  },
  {
   "cell_type": "code",
   "execution_count": 8,
   "metadata": {},
   "outputs": [],
   "source": [
    "X_train = []\n",
    "y_train = []\n",
    "\n",
    "for i in range (60,1149): #60 : timestep // 1149 : length of the data\n",
    "    X_train.append(trainData[i-60:i,0]) \n",
    "    y_train.append(trainData[i,0])\n",
    "\n",
    "X_train,y_train = np.array(X_train),np.array(y_train)"
   ]
  },
  {
   "cell_type": "markdown",
   "metadata": {},
   "source": [
    "ps : LSTM take a 3D tensor (seq_len,timestep,batch_size)"
   ]
  },
  {
   "cell_type": "code",
   "execution_count": 9,
   "metadata": {},
   "outputs": [
    {
     "data": {
      "text/plain": [
       "(1089, 60, 1)"
      ]
     },
     "execution_count": 9,
     "metadata": {},
     "output_type": "execute_result"
    }
   ],
   "source": [
    "X_train = np.reshape(X_train,(X_train.shape[0],X_train.shape[1],1)) #adding the batch_size axis\n",
    "X_train.shape"
   ]
  },
  {
   "cell_type": "markdown",
   "metadata": {},
   "source": [
    "## building the model "
   ]
  },
  {
   "cell_type": "code",
   "execution_count": 10,
   "metadata": {},
   "outputs": [],
   "source": [
    "model = Sequential()\n",
    "\n",
    "model.add(LSTM(units=100, return_sequences = True, input_shape =(X_train.shape[1],1)))\n",
    "model.add(Dropout(0.2))\n",
    "\n",
    "model.add(LSTM(units=100, return_sequences = True))\n",
    "model.add(Dropout(0.2))\n",
    "\n",
    "model.add(LSTM(units=100, return_sequences = True))\n",
    "model.add(Dropout(0.2))\n",
    "\n",
    "model.add(LSTM(units=100, return_sequences = False))\n",
    "model.add(Dropout(0.2))\n",
    "\n",
    "model.add(Dense(units =1))\n",
    "model.compile(optimizer='adam',loss=\"mean_squared_error\")"
   ]
  },
  {
   "cell_type": "code",
   "execution_count": 11,
   "metadata": {},
   "outputs": [
    {
     "name": "stdout",
     "output_type": "stream",
     "text": [
      "Epoch 1/5\n",
      "35/35 - 11s - loss: 0.0376 - 11s/epoch - 303ms/step\n",
      "Epoch 2/5\n",
      "35/35 - 5s - loss: 0.0138 - 5s/epoch - 136ms/step\n",
      "Epoch 3/5\n",
      "35/35 - 5s - loss: 0.0105 - 5s/epoch - 131ms/step\n",
      "Epoch 4/5\n",
      "35/35 - 5s - loss: 0.0089 - 5s/epoch - 153ms/step\n",
      "Epoch 5/5\n",
      "35/35 - 5s - loss: 0.0109 - 5s/epoch - 130ms/step\n"
     ]
    }
   ],
   "source": [
    "hist = model.fit(X_train, y_train, epochs = 5, batch_size = 32, verbose=2)"
   ]
  },
  {
   "cell_type": "markdown",
   "metadata": {},
   "source": [
    "### ploting the training loss\n"
   ]
  },
  {
   "cell_type": "code",
   "execution_count": 12,
   "metadata": {},
   "outputs": [
    {
     "data": {
      "image/png": "[encoded data removed]",
      "text/plain": [
       "<Figure size 432x288 with 1 Axes>"
      ]
     },
     "metadata": {
      "needs_background": "light"
     },
     "output_type": "display_data"
    }
   ],
   "source": [
    "plt.plot(hist.history['loss'])\n",
    "plt.title('model loss')\n",
    "plt.ylabel('loss')\n",
    "plt.xlabel('epoch')\n",
    "plt.legend(['train'], loc='upper left')\n",
    "plt.show()"
   ]
  },
  {
   "cell_type": "markdown",
   "metadata": {},
   "source": [
    "### testing the model on new data\n"
   ]
  },
  {
   "cell_type": "code",
   "execution_count": 13,
   "metadata": {},
   "outputs": [
    {
     "data": {
      "text/plain": [
       "(192, 60, 1)"
      ]
     },
     "execution_count": 13,
     "metadata": {},
     "output_type": "execute_result"
    }
   ],
   "source": [
    "testData = pd.read_csv('GOOG.csv') #importing the test data\n",
    "testData[\"Close\"]=pd.to_numeric(testData.Close,errors='coerce') #turning the close column to numerical type\n",
    "testData = testData.dropna() #droping the NA values\n",
    "testData = testData.iloc[:,4:5] #selecting the closing prices for testing\n",
    "y_test = testData.iloc[60:,0:].values #selecting the labels \n",
    "#input array for the model\n",
    "inputClosing = testData.iloc[:,0:].values \n",
    "inputClosing_scaled = sc.transform(inputClosing)\n",
    "inputClosing_scaled.shape\n",
    "X_test = []\n",
    "length = len(testData)\n",
    "timestep = 60\n",
    "for i in range(timestep,length): #doing the same preivous preprocessing \n",
    "    X_test.append(inputClosing_scaled[i-timestep:i,0])\n",
    "X_test = np.array(X_test)\n",
    "X_test = np.reshape(X_test,(X_test.shape[0],X_test.shape[1],1))\n",
    "X_test.shape"
   ]
  },
  {
   "cell_type": "code",
   "execution_count": 14,
   "metadata": {},
   "outputs": [],
   "source": [
    "y_pred = model.predict(X_test) #predicting the new values\n"
   ]
  },
  {
   "cell_type": "code",
   "execution_count": 22,
   "metadata": {},
   "outputs": [
    {
     "name": "stdout",
     "output_type": "stream",
     "text": [
      "[[1054.1558 ]\n",
      " [1051.4607 ]\n",
      " [1049.3967 ]\n",
      " [1048.1329 ]\n",
      " [1047.5905 ]\n",
      " [1047.4031 ]\n",
      " [1047.2144 ]\n",
      " [1046.8326 ]\n",
      " [1046.3387 ]\n",
      " [1045.8351 ]\n",
      " [1045.0996 ]\n",
      " [1043.9958 ]\n",
      " [1042.5645 ]\n",
      " [1040.8046 ]\n",
      " [1038.9489 ]\n",
      " [1037.1921 ]\n",
      " [1035.9978 ]\n",
      " [1035.7103 ]\n",
      " [1036.5266 ]\n",
      " [1038.537  ]\n",
      " [1041.23   ]\n",
      " [1044.1979 ]\n",
      " [1046.861  ]\n",
      " [1048.8236 ]\n",
      " [1049.9778 ]\n",
      " [1050.4573 ]\n",
      " [1050.4467 ]\n",
      " [1049.9813 ]\n",
      " [1048.9094 ]\n",
      " [1047.2394 ]\n",
      " [1045.0186 ]\n",
      " [1042.2546 ]\n",
      " [1038.7909 ]\n",
      " [1034.552  ]\n",
      " [1030.0798 ]\n",
      " [1025.9607 ]\n",
      " [1022.5914 ]\n",
      " [1020.1729 ]\n",
      " [1018.823  ]\n",
      " [1018.29456]\n",
      " [1018.70325]\n",
      " [1020.08453]\n",
      " [1022.4275 ]\n",
      " [1025.5989 ]\n",
      " [1029.3483 ]\n",
      " [1033.2924 ]\n",
      " [1036.9913 ]\n",
      " [1040.3628 ]\n",
      " [1043.4359 ]\n",
      " [1046.3267 ]\n",
      " [1049.1827 ]\n",
      " [1051.8744 ]\n",
      " [1054.2891 ]\n",
      " [1056.3275 ]\n",
      " [1058.0629 ]\n",
      " [1059.4237 ]\n",
      " [1060.2899 ]\n",
      " [1060.8132 ]\n",
      " [1061.3687 ]\n",
      " [1062.2053 ]\n",
      " [1063.6108 ]\n",
      " [1065.8119 ]\n",
      " [1068.6244 ]\n",
      " [1071.6445 ]\n",
      " [1074.4701 ]\n",
      " [1076.8094 ]\n",
      " [1078.7004 ]\n",
      " [1080.2383 ]\n",
      " [1081.5353 ]\n",
      " [1082.6205 ]\n",
      " [1083.5417 ]\n",
      " [1084.2983 ]\n",
      " [1084.7623 ]\n",
      " [1084.9445 ]\n",
      " [1084.8838 ]\n",
      " [1084.6799 ]\n",
      " [1084.4323 ]\n",
      " [1084.2437 ]\n",
      " [1084.3374 ]\n",
      " [1084.905  ]\n",
      " [1086.1313 ]\n",
      " [1088.0326 ]\n",
      " [1090.4025 ]\n",
      " [1092.9862 ]\n",
      " [1095.7959 ]\n",
      " [1098.9541 ]\n",
      " [1102.5029 ]\n",
      " [1106.3296 ]\n",
      " [1110.2559 ]\n",
      " [1114.0914 ]\n",
      " [1117.776  ]\n",
      " [1121.4402 ]\n",
      " [1125.2141 ]\n",
      " [1128.9476 ]\n",
      " [1132.3744 ]\n",
      " [1135.2202 ]\n",
      " [1137.2372 ]\n",
      " [1138.2871 ]\n",
      " [1138.4073 ]\n",
      " [1137.8845 ]\n",
      " [1137.0557 ]\n",
      " [1136.2336 ]\n",
      " [1135.6946 ]\n",
      " [1135.5337 ]\n",
      " [1135.7275 ]\n",
      " [1136.1531 ]\n",
      " [1136.7178 ]\n",
      " [1137.3596 ]\n",
      " [1138.123  ]\n",
      " [1139.0568 ]\n",
      " [1140.2139 ]\n",
      " [1141.6613 ]\n",
      " [1143.399  ]\n",
      " [1145.4591 ]\n",
      " [1147.9177 ]\n",
      " [1150.7021 ]\n",
      " [1153.7345 ]\n",
      " [1156.9578 ]\n",
      " [1160.3848 ]\n",
      " [1163.2838 ]\n",
      " [1164.9712 ]\n",
      " [1165.0374 ]\n",
      " [1163.5585 ]\n",
      " [1160.8438 ]\n",
      " [1157.182  ]\n",
      " [1152.8407 ]\n",
      " [1148.0708 ]\n",
      " [1143.135  ]\n",
      " [1138.042  ]\n",
      " [1132.7465 ]\n",
      " [1127.5898 ]\n",
      " [1123.0013 ]\n",
      " [1119.175  ]\n",
      " [1116.0164 ]\n",
      " [1113.4658 ]\n",
      " [1111.4633 ]\n",
      " [1109.8673 ]\n",
      " [1108.5026 ]\n",
      " [1107.2471 ]\n",
      " [1105.9027 ]\n",
      " [1104.3644 ]\n",
      " [1102.5035 ]\n",
      " [1099.787  ]\n",
      " [1096.0215 ]\n",
      " [1091.1592 ]\n",
      " [1085.3607 ]\n",
      " [1079.0753 ]\n",
      " [1072.8755 ]\n",
      " [1067.2277 ]\n",
      " [1062.4357 ]\n",
      " [1058.7393 ]\n",
      " [1056.2031 ]\n",
      " [1054.8207 ]\n",
      " [1054.5698 ]\n",
      " [1055.3273 ]\n",
      " [1056.9688 ]\n",
      " [1059.3932 ]\n",
      " [1062.3964 ]\n",
      " [1065.5255 ]\n",
      " [1068.3402 ]\n",
      " [1070.5077 ]\n",
      " [1071.8942 ]\n",
      " [1072.6295 ]\n",
      " [1073.0017 ]\n",
      " [1073.3464 ]\n",
      " [1073.976  ]\n",
      " [1074.9497 ]\n",
      " [1076.2856 ]\n",
      " [1078.0457 ]\n",
      " [1080.2456 ]\n",
      " [1082.8312 ]\n",
      " [1085.7301 ]\n",
      " [1088.8513 ]\n",
      " [1092.0225 ]\n",
      " [1095.0757 ]\n",
      " [1097.7542 ]\n",
      " [1099.9371 ]\n",
      " [1101.6418 ]\n",
      " [1102.868  ]\n",
      " [1103.6061 ]\n",
      " [1104.7501 ]\n",
      " [1106.8918 ]\n",
      " [1110.1884 ]\n",
      " [1114.4564 ]\n",
      " [1119.306  ]\n",
      " [1124.216  ]\n",
      " [1128.457  ]\n",
      " [1131.6613 ]\n",
      " [1133.7208 ]\n",
      " [1134.9196 ]\n",
      " [1135.4554 ]\n",
      " [1135.4222 ]]\n"
     ]
    }
   ],
   "source": [
    "y_pred_1_b = sc.inverse_transform(y_pred) #inversing the scaling transformation for ploting \n",
    "print(y_pred_1_b)"
   ]
  },
  {
   "cell_type": "markdown",
   "metadata": {},
   "source": [
    "### ploting the results"
   ]
  },
  {
   "cell_type": "code",
   "execution_count": 23,
   "metadata": {},
   "outputs": [
    {
     "data": {
      "image/png": "[encoded data removed]",
      "text/plain": [
       "<Figure size 432x288 with 1 Axes>"
      ]
     },
     "metadata": {
      "needs_background": "light"
     },
     "output_type": "display_data"
    }
   ],
   "source": [
    "plt.plot(y_test, color = 'blue', label = 'Actual Stock Price')\n",
    "plt.plot(y_pred_1_b, color = 'red', label = 'Predicted Stock Price')\n",
    "plt.title('GOOG stock price prediction')\n",
    "plt.xlabel('Time')\n",
    "plt.ylabel('Stock Price')\n",
    "plt.legend()\n",
    "plt.show()"
   ]
  },
  {
   "cell_type": "code",
   "execution_count": null,
   "metadata": {},
   "outputs": [],
   "source": []
  }
 ],
 "metadata": {
  "kernelspec": {
   "display_name": "Python 3",
   "language": "python",
   "name": "python3"
  },
  "language_info": {
   "codemirror_mode": {
    "name": "ipython",
    "version": 3
   },
   "file_extension": ".py",
   "mimetype": "text/x-python",
   "name": "python",
   "nbconvert_exporter": "python",
   "pygments_lexer": "ipython3",
   "version": "3.8.8"
  }
 },
 "nbformat": 4,
 "nbformat_minor": 2
}
